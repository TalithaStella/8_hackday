{
 "cells": [
  {
   "cell_type": "markdown",
   "metadata": {},
   "source": [
    "# EXTRACAO"
   ]
  },
  {
   "cell_type": "code",
   "execution_count": 2,
   "metadata": {},
   "outputs": [],
   "source": [
    "comando=\"\"\"\n",
    "with tc_2 as (select tc.id,tc.status\n",
    "\t\t\tfrom tb_conscientizacao tc\n",
    "\t\t\tgroup by tc.id,tc.status) \n",
    "SELECT \n",
    "\tdatas.id_data,\n",
    "\ttap.\"Presença de Criadouros\" as area_presenca_criadouros,\n",
    "\ttap.\"Água Parada em Terrenos Baldios\" as area_agua_parada_tereno_baldio,\n",
    "\ttap.\"Presença de Piscinas sem Manutenção\" as pres_piscina_s_manut,\n",
    "\ttap.\"Presença de Recipientes sem Tampas\" as pres_recipiente_s_tampa,\n",
    "\ttcd.\"Casos de dengue\" casos_dengue,\n",
    "\ttcc.\"Precipitação\" as precipitacao,\n",
    "\ttcc.\"Umidade\" as umidade,\n",
    "\ttcc.\"Temperatura\" as temperatura,\n",
    "\ttfh.\"Falta de Coleta de Lixo\" as  falta_coleta_lixo,\n",
    "\ttfh.\"Áreas com Acúmulo de Entulhos\" as area_acumulo_entulho,\n",
    "\ttfh.\"Falta de Controle de Pragas\" as falta_controle,\n",
    "\ttfh.\"Taxa de Tratamento de Esgoto\" as taxa_tratamento_esgoto,\n",
    "\ttf.\"conscientização da população\" as conscientiza_pop,\n",
    "\ttf.\"condições de moradia precárias\" as conicao_moradia_precaria,\n",
    "\ttf.\"falta de acesso a serviços de saúde\" as falta_acesso_servico_saude,\n",
    "\ttf.\"migração de pessoas de áreas endêmicas\" as migracao_pess_area_endemica,\n",
    "\ttf.\"transporte de mercadorias em áreas urbanas\" as transp_mercadoria_area_urbana,\n",
    "\ttf.outros ,\n",
    "\ttf.\"presença do mosquito\" as presenca_mosquito ,\n",
    "\ttc_2.id,\n",
    "\ttc_2.status as status_conscientiza\n",
    "FROM (\n",
    "    SELECT date(generate_series('1987-01-01'::date, '2023-12-31'::date, '1 day')) AS id_data\n",
    ") AS datas\n",
    "LEFT JOIN tb_agua_parada tap ON datas.id_data =tap.\"Date\"::date \n",
    "LEFT JOIN tb_casos_dengue tcd ON datas.id_data = tcd.\"Date\" ::date\n",
    "left join tb_condicoes_climaticas tcc on datas.id_data = tcc.\"Date\" ::date\n",
    "LEFT JOIN tb_falta_higiene tfh on datas.id_data = tfh.\"Date\" ::date\n",
    "LEFT JOIN tb_fato tf  on datas.id_data = tf.\"Date\"::date\n",
    "left join tc_2 on tf.\"conscientização da população\" =tc_2.id \n",
    "\n",
    " \"\"\"\n"
   ]
  },
  {
   "cell_type": "code",
   "execution_count": 3,
   "metadata": {},
   "outputs": [],
   "source": [
    "\n",
    "def consultar(comando):\n",
    "\n",
    "\n",
    "    class conectar():\n",
    "\n",
    "        def __init__(self) -> None:\n",
    "            import pyodbc\n",
    "            self.pyodbc=pyodbc\n",
    "\n",
    "            import pandas\n",
    "            self.pandas=pandas\n",
    "\n",
    "        def conectar(self):\n",
    "            # Estabeleça a conexão com o banco de dados\n",
    "            self.conn = self.pyodbc.connect(\n",
    "                'DRIVER={PostgreSQL Unicode};'\n",
    "                'DATABASE=base_previsao_casos_dengue;'\n",
    "                'UID=competidor;'\n",
    "                'PWD=competidor;'\n",
    "                'SERVER=34.135.161.3;'\n",
    "                'PORT=5432;'\n",
    "            )\n",
    "            self.cursor = self.conn.cursor()\n",
    "            print('-conectado')\n",
    "\n",
    "        def executar(self,comando):\n",
    "            self.cursor.execute(comando)\n",
    "            results = self.cursor.fetchall()\n",
    "            colunas=[i[0] for i in self.cursor.description]\n",
    "            results=[list(i) for i in results]\n",
    "\n",
    "            results=self.pandas.DataFrame(results,columns=colunas)\n",
    "            \n",
    "            return results\n",
    "            \n",
    "\n",
    "        def desconectar(self):\n",
    "            self.conn.close()\n",
    "            print('-desconectado')\n",
    "\n",
    "    acesso=conectar()\n",
    "    acesso.conectar()\n",
    "    resposta=acesso.executar(comando)\n",
    "    acesso.desconectar()\n",
    "\n",
    "    return resposta\n",
    "\n"
   ]
  },
  {
   "cell_type": "code",
   "execution_count": 4,
   "metadata": {},
   "outputs": [
    {
     "name": "stdout",
     "output_type": "stream",
     "text": [
      "-conectado\n",
      "-desconectado\n"
     ]
    }
   ],
   "source": [
    "\n",
    "resposta=consultar(comando)"
   ]
  },
  {
   "cell_type": "code",
   "execution_count": 5,
   "metadata": {},
   "outputs": [],
   "source": [
    "resposta.to_csv('dados.csv',decimal=',',sep=';',index=False)"
   ]
  },
  {
   "cell_type": "markdown",
   "metadata": {},
   "source": [
    "# LIMPAR DADOS"
   ]
  },
  {
   "cell_type": "code",
   "execution_count": 6,
   "metadata": {},
   "outputs": [],
   "source": [
    "#importar libs \n",
    "import pandas\n",
    "import numpy"
   ]
  },
  {
   "cell_type": "code",
   "execution_count": 7,
   "metadata": {},
   "outputs": [],
   "source": [
    "#ler dados\n",
    "dt_dados_backup=pandas.read_csv('dados.csv',sep=';',decimal=',')"
   ]
  },
  {
   "cell_type": "code",
   "execution_count": 8,
   "metadata": {},
   "outputs": [],
   "source": [
    "#backup dos dados\n",
    "dt_dados=dt_dados_backup.copy()"
   ]
  },
  {
   "cell_type": "code",
   "execution_count": 9,
   "metadata": {},
   "outputs": [],
   "source": [
    "#trocar valores indesejados por nan\n",
    "dt_dados[dt_dados.isin(['indisponivel',''])]=numpy.nan"
   ]
  },
  {
   "cell_type": "code",
   "execution_count": 10,
   "metadata": {},
   "outputs": [],
   "source": [
    "#tratar colunas float\n",
    "colunas_float=['temperatura', 'falta_coleta_lixo', 'falta_controle', 'area_agua_parada_tereno_baldio',\n",
    "                'taxa_tratamento_esgoto', 'area_acumulo_entulho', 'falta_acesso_servico_saude', 'outros', \n",
    "                'conicao_moradia_precaria', 'umidade', 'transp_mercadoria_area_urbana',\n",
    "                   'precipitacao', 'area_presenca_criadouros', 'migracao_pess_area_endemica']\n",
    "\n",
    "for coluna in colunas_float:\n",
    "    #transformar em float\n",
    "    dt_dados[coluna]=dt_dados[coluna].map(lambda x:float(str(x).replace(',','.')))\n",
    "    #substituir pela média dos valores\n",
    "    dt_dados[coluna]=dt_dados[coluna].astype(float).fillna(dt_dados[coluna].mean())\n"
   ]
  },
  {
   "cell_type": "code",
   "execution_count": 11,
   "metadata": {},
   "outputs": [
    {
     "name": "stderr",
     "output_type": "stream",
     "text": [
      "C:\\Users\\Matheus\\AppData\\Local\\Temp\\ipykernel_7496\\338031711.py:8: FutureWarning: Downcasting object dtype arrays on .fillna, .ffill, .bfill is deprecated and will change in a future version. Call result.infer_objects(copy=False) instead. To opt-in to the future behavior, set `pd.set_option('future.no_silent_downcasting', True)`\n",
      "  dt_dados[coluna]=dt_dados[coluna].fillna(dt_dados[coluna].mean()).astype(int)\n",
      "C:\\Users\\Matheus\\AppData\\Local\\Temp\\ipykernel_7496\\338031711.py:8: FutureWarning: Downcasting object dtype arrays on .fillna, .ffill, .bfill is deprecated and will change in a future version. Call result.infer_objects(copy=False) instead. To opt-in to the future behavior, set `pd.set_option('future.no_silent_downcasting', True)`\n",
      "  dt_dados[coluna]=dt_dados[coluna].fillna(dt_dados[coluna].mean()).astype(int)\n",
      "C:\\Users\\Matheus\\AppData\\Local\\Temp\\ipykernel_7496\\338031711.py:8: FutureWarning: Downcasting object dtype arrays on .fillna, .ffill, .bfill is deprecated and will change in a future version. Call result.infer_objects(copy=False) instead. To opt-in to the future behavior, set `pd.set_option('future.no_silent_downcasting', True)`\n",
      "  dt_dados[coluna]=dt_dados[coluna].fillna(dt_dados[coluna].mean()).astype(int)\n"
     ]
    }
   ],
   "source": [
    "#tratar colunas inteiras\n",
    "df_col_int=['pres_piscina_s_manut','pres_recipiente_s_tampa','presenca_mosquito']\n",
    "\n",
    "for coluna in df_col_int:\n",
    "    #transformar em int\n",
    "    dt_dados.loc[dt_dados[coluna].isna()==False,coluna]=dt_dados.loc[dt_dados[coluna].isna()==False,coluna].map(lambda x:int(x))\n",
    "    #substituir pela média dos valores\n",
    "    dt_dados[coluna]=dt_dados[coluna].fillna(dt_dados[coluna].mean()).astype(int)\n"
   ]
  },
  {
   "cell_type": "code",
   "execution_count": 12,
   "metadata": {},
   "outputs": [],
   "source": [
    "#criar index como datetime\n",
    "dt_dados['id_data']=pandas.to_datetime(dt_dados['id_data'])\n",
    "dt_dados.set_index('id_data',inplace=True)"
   ]
  },
  {
   "cell_type": "markdown",
   "metadata": {},
   "source": [
    "# PROPOSTA - CRIACAO DE PARAMETRO\n",
    "\n",
    "coluna 'chuva_XDias', é uma coluna que apura quantos \"X\" dias antes do dia referencia temos chuva com \"Y\" de precipitacao"
   ]
  },
  {
   "cell_type": "markdown",
   "metadata": {},
   "source": [
    "## parametro de precipitacao"
   ]
  },
  {
   "cell_type": "code",
   "execution_count": 13,
   "metadata": {},
   "outputs": [],
   "source": [
    "#indicador chuva_XDias - teste de precipitacao\n",
    "df_teste_precipitar=dt_dados.copy()\n",
    "teste_precipitar=[]\n",
    "for i_precipitar in range(10,200):\n",
    "    dias_precipitacao_maior_que_zero = df_teste_precipitar['precipitacao'].rolling(window=9).apply(lambda x: (x > i_precipitar).sum(), raw=True)\n",
    "    df_teste_precipitar['chuva_XDias']=dias_precipitacao_maior_que_zero\n",
    "    correlacao=df_teste_precipitar[['casos_dengue','chuva_XDias']].corr().iloc[0,1]\n",
    "    teste_precipitar.append([i_precipitar,correlacao])"
   ]
  },
  {
   "cell_type": "code",
   "execution_count": 14,
   "metadata": {},
   "outputs": [
    {
     "data": {
      "image/png": "[encoded data removed]",
      "text/plain": [
       "<Figure size 640x480 with 1 Axes>"
      ]
     },
     "metadata": {},
     "output_type": "display_data"
    },
    {
     "name": "stdout",
     "output_type": "stream",
     "text": [
      "melhor valor\n"
     ]
    },
    {
     "data": {
      "text/html": [
       "<div>\n",
       "<style scoped>\n",
       "    .dataframe tbody tr th:only-of-type {\n",
       "        vertical-align: middle;\n",
       "    }\n",
       "\n",
       "    .dataframe tbody tr th {\n",
       "        vertical-align: top;\n",
       "    }\n",
       "\n",
       "    .dataframe thead th {\n",
       "        text-align: right;\n",
       "    }\n",
       "</style>\n",
       "<table border=\"1\" class=\"dataframe\">\n",
       "  <thead>\n",
       "    <tr style=\"text-align: right;\">\n",
       "      <th></th>\n",
       "      <th>precipitacao</th>\n",
       "      <th>correlacao</th>\n",
       "    </tr>\n",
       "  </thead>\n",
       "  <tbody>\n",
       "    <tr>\n",
       "      <th>88</th>\n",
       "      <td>98</td>\n",
       "      <td>0.6382</td>\n",
       "    </tr>\n",
       "  </tbody>\n",
       "</table>\n",
       "</div>"
      ],
      "text/plain": [
       "    precipitacao  correlacao\n",
       "88            98      0.6382"
      ]
     },
     "metadata": {},
     "output_type": "display_data"
    }
   ],
   "source": [
    "import matplotlib.pyplot as plt\n",
    "dados=teste_precipitar\n",
    "# Dados das variáveis\n",
    "x=[i[0] for i in dados]\n",
    "y=[i[1] for i in dados]\n",
    "plt.scatter(x, y)\n",
    "plt.xlabel('precipitacao')\n",
    "plt.ylabel('corr_casos_dengue')\n",
    "plt.title('relacao_precipitacao_casosDengue')\n",
    "plt.show()\n",
    "\n",
    "tabela=pandas.DataFrame(teste_precipitar,columns=['precipitacao','correlacao'])\n",
    "tabela=tabela[tabela['correlacao']==tabela['correlacao'].max()]\n",
    "\n",
    "print('melhor valor')\n",
    "display(tabela)"
   ]
  },
  {
   "cell_type": "markdown",
   "metadata": {},
   "source": [
    "## parametro dias"
   ]
  },
  {
   "cell_type": "code",
   "execution_count": 15,
   "metadata": {},
   "outputs": [],
   "source": [
    "#indicador chuva_XDias - teste de dias\n",
    "df_teste_precipitar=dt_dados.copy()\n",
    "teste_dias=[]\n",
    "for i_dia in range(0,35):\n",
    "    dias_precipitacao_maior_que_zero = df_teste_precipitar['precipitacao'].rolling(window=i_dia).apply(lambda x: (x > 97).sum(), raw=True)\n",
    "    df_teste_precipitar['chuva_XDias']=dias_precipitacao_maior_que_zero\n",
    "    correlacao=df_teste_precipitar[['casos_dengue','chuva_XDias']].corr().iloc[0,1]\n",
    "    teste_dias.append([i_dia,correlacao])"
   ]
  },
  {
   "cell_type": "code",
   "execution_count": 16,
   "metadata": {},
   "outputs": [
    {
     "data": {
      "image/png": "[encoded data removed]",
      "text/plain": [
       "<Figure size 640x480 with 1 Axes>"
      ]
     },
     "metadata": {},
     "output_type": "display_data"
    },
    {
     "name": "stdout",
     "output_type": "stream",
     "text": [
      "melhor valor\n"
     ]
    },
    {
     "data": {
      "text/html": [
       "<div>\n",
       "<style scoped>\n",
       "    .dataframe tbody tr th:only-of-type {\n",
       "        vertical-align: middle;\n",
       "    }\n",
       "\n",
       "    .dataframe tbody tr th {\n",
       "        vertical-align: top;\n",
       "    }\n",
       "\n",
       "    .dataframe thead th {\n",
       "        text-align: right;\n",
       "    }\n",
       "</style>\n",
       "<table border=\"1\" class=\"dataframe\">\n",
       "  <thead>\n",
       "    <tr style=\"text-align: right;\">\n",
       "      <th></th>\n",
       "      <th>dias_chuva</th>\n",
       "      <th>correlacao</th>\n",
       "    </tr>\n",
       "  </thead>\n",
       "  <tbody>\n",
       "    <tr>\n",
       "      <th>9</th>\n",
       "      <td>9</td>\n",
       "      <td>0.637328</td>\n",
       "    </tr>\n",
       "  </tbody>\n",
       "</table>\n",
       "</div>"
      ],
      "text/plain": [
       "   dias_chuva  correlacao\n",
       "9           9    0.637328"
      ]
     },
     "metadata": {},
     "output_type": "display_data"
    }
   ],
   "source": [
    "import matplotlib.pyplot as plt\n",
    "dados=teste_dias\n",
    "# Dados das variáveis\n",
    "x=[i[0] for i in dados]\n",
    "y=[i[1] for i in dados]\n",
    "plt.scatter(x, y)\n",
    "plt.xlabel('dias_chuva')\n",
    "plt.ylabel('corr_casos_dengue')\n",
    "plt.title('relacao_DiasChuva_casosDengue')\n",
    "plt.show()\n",
    "\n",
    "tabela=pandas.DataFrame(teste_dias,columns=['dias_chuva','correlacao'])\n",
    "tabela=tabela[tabela['correlacao']==tabela['correlacao'].max()]\n",
    "\n",
    "print('melhor valor')\n",
    "display(tabela)"
   ]
  },
  {
   "cell_type": "markdown",
   "metadata": {},
   "source": [
    "# CRIACAO DA COLUNA COM PARAMETROS AJUSTADOS"
   ]
  },
  {
   "cell_type": "code",
   "execution_count": 17,
   "metadata": {},
   "outputs": [],
   "source": [
    "#coluna chuva_XD - \n",
    "dias_precipitacao_maior_que_zero = dt_dados['precipitacao'].rolling(window=9).apply(lambda x: (x > 98).sum(), raw=True)\n",
    "dt_dados['chuva_XDias']=dias_precipitacao_maior_que_zero"
   ]
  },
  {
   "cell_type": "markdown",
   "metadata": {},
   "source": [
    "## comparar correlacao da nova variavel"
   ]
  },
  {
   "cell_type": "code",
   "execution_count": 18,
   "metadata": {},
   "outputs": [
    {
     "data": {
      "text/html": [
       "<div>\n",
       "<style scoped>\n",
       "    .dataframe tbody tr th:only-of-type {\n",
       "        vertical-align: middle;\n",
       "    }\n",
       "\n",
       "    .dataframe tbody tr th {\n",
       "        vertical-align: top;\n",
       "    }\n",
       "\n",
       "    .dataframe thead th {\n",
       "        text-align: right;\n",
       "    }\n",
       "</style>\n",
       "<table border=\"1\" class=\"dataframe\">\n",
       "  <thead>\n",
       "    <tr style=\"text-align: right;\">\n",
       "      <th></th>\n",
       "      <th>casos_dengue</th>\n",
       "      <th>temperatura</th>\n",
       "      <th>umidade</th>\n",
       "      <th>precipitacao</th>\n",
       "      <th>chuva_XDias</th>\n",
       "    </tr>\n",
       "  </thead>\n",
       "  <tbody>\n",
       "    <tr>\n",
       "      <th>casos_dengue</th>\n",
       "      <td>1.000000</td>\n",
       "      <td>0.435860</td>\n",
       "      <td>0.443209</td>\n",
       "      <td>0.558106</td>\n",
       "      <td>0.638200</td>\n",
       "    </tr>\n",
       "    <tr>\n",
       "      <th>temperatura</th>\n",
       "      <td>0.435860</td>\n",
       "      <td>1.000000</td>\n",
       "      <td>0.484303</td>\n",
       "      <td>0.533262</td>\n",
       "      <td>0.583222</td>\n",
       "    </tr>\n",
       "    <tr>\n",
       "      <th>umidade</th>\n",
       "      <td>0.443209</td>\n",
       "      <td>0.484303</td>\n",
       "      <td>1.000000</td>\n",
       "      <td>0.562347</td>\n",
       "      <td>0.614553</td>\n",
       "    </tr>\n",
       "    <tr>\n",
       "      <th>precipitacao</th>\n",
       "      <td>0.558106</td>\n",
       "      <td>0.533262</td>\n",
       "      <td>0.562347</td>\n",
       "      <td>1.000000</td>\n",
       "      <td>0.791368</td>\n",
       "    </tr>\n",
       "    <tr>\n",
       "      <th>chuva_XDias</th>\n",
       "      <td>0.638200</td>\n",
       "      <td>0.583222</td>\n",
       "      <td>0.614553</td>\n",
       "      <td>0.791368</td>\n",
       "      <td>1.000000</td>\n",
       "    </tr>\n",
       "  </tbody>\n",
       "</table>\n",
       "</div>"
      ],
      "text/plain": [
       "              casos_dengue  temperatura   umidade  precipitacao  chuva_XDias\n",
       "casos_dengue      1.000000     0.435860  0.443209      0.558106     0.638200\n",
       "temperatura       0.435860     1.000000  0.484303      0.533262     0.583222\n",
       "umidade           0.443209     0.484303  1.000000      0.562347     0.614553\n",
       "precipitacao      0.558106     0.533262  0.562347      1.000000     0.791368\n",
       "chuva_XDias       0.638200     0.583222  0.614553      0.791368     1.000000"
      ]
     },
     "execution_count": 18,
     "metadata": {},
     "output_type": "execute_result"
    }
   ],
   "source": [
    "#comparar correlação\n",
    "dt_dados[['casos_dengue','temperatura','umidade','precipitacao','chuva_XDias']].corr()"
   ]
  },
  {
   "cell_type": "code",
   "execution_count": 19,
   "metadata": {},
   "outputs": [
    {
     "data": {
      "text/plain": []
     },
     "execution_count": 19,
     "metadata": {},
     "output_type": "execute_result"
    }
   ],
   "source": [
    "#visualicação interativa\n",
    "\n",
    "#import dtale\n",
    "#dtale.show(dt_dados,open_browser=True)"
   ]
  }
 ],
 "metadata": {
  "kernelspec": {
   "display_name": "Python 3",
   "language": "python",
   "name": "python3"
  },
  "language_info": {
   "codemirror_mode": {
    "name": "ipython",
    "version": 3
   },
   "file_extension": ".py",
   "mimetype": "text/x-python",
   "name": "python",
   "nbconvert_exporter": "python",
   "pygments_lexer": "ipython3",
   "version": "3.9.13"
  }
 },
 "nbformat": 4,
 "nbformat_minor": 2
}
